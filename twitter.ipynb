{
 "cells": [
  {
   "cell_type": "code",
   "execution_count": 1,
   "metadata": {},
   "outputs": [],
   "source": [
    "#!pip install tweepy\n",
    "import tweepy as tw\n",
    "import json\n",
    "from csv import writer\n",
    "import warnings\n",
    "warnings.filterwarnings(\"ignore\")\n",
    "import pandas as pd\n",
    "# Enter Twitter API Keys\n",
    "access_token = \"\"\n",
    "access_token_secret = \"\"\n",
    "consumer_key = \"\"\n",
    "consumer_secret = \"\"\n",
    "\n",
    "\n",
    "auth = tw.OAuthHandler(consumer_key, consumer_secret)\n",
    "auth.set_access_token(access_token, access_token_secret)\n",
    "api = tw.API(auth, wait_on_rate_limit=True)\n",
    "data = api.rate_limit_status()\n",
    "\n",
    "\n"
   ]
  },
  {
   "cell_type": "code",
   "execution_count": 3,
   "metadata": {},
   "outputs": [],
   "source": [
    "import csv\n",
    "query= ['Rohinga','rohingya','Rakhine State','Kutupalong','Bhasan Char','Char Vasan','Muslim minority rohinga',\n",
    "          'refugee camp','Bangladesh rohinga','Myanmar rohinga','Unchiprang','National League rohinga','Democracy rohinga','NLD','majority Burmans',\n",
    "          'United  Nations rohinga','Rohingya  refug','UNHCR','#Rohingya','#Refuge rohinga','#Genocide rohinga','#Crisis rohinga',\n",
    "         '#Myanmar Rohinga','#Bangladesh Rohinga']\n",
    "for i in  query:         \n",
    "    for tweet in tw.Cursor(api.search,q = [i],tweet_mode=\"extended\",since=\"2021-11-12\", until='2021-11-15',lang=\"en\").items(15000):\n",
    "        date=tweet.created_at.date()\n",
    "        Id=tweet.id_str\n",
    "        name=tweet.user.screen_name\n",
    "        text=tweet.full_text\n",
    "        place=tweet.place\n",
    "        retweet=tweet.retweet_count\n",
    "        favorite=tweet.favorite_count\n",
    "        with open('rohinga.csv','a',encoding='UTF8',newline='') as f:\n",
    "            csv.writer(f).writerow([date,'id'+Id,name,place,text,retweet,favorite])\n",
    "        "
   ]
  },
  {
   "cell_type": "code",
   "execution_count": null,
   "metadata": {},
   "outputs": [],
   "source": []
  }
 ],
 "metadata": {
  "kernelspec": {
   "display_name": "Python 3",
   "language": "python",
   "name": "python3"
  },
  "language_info": {
   "codemirror_mode": {
    "name": "ipython",
    "version": 3
   },
   "file_extension": ".py",
   "mimetype": "text/x-python",
   "name": "python",
   "nbconvert_exporter": "python",
   "pygments_lexer": "ipython3",
   "version": "3.6.5"
  }
 },
 "nbformat": 4,
 "nbformat_minor": 5
}
